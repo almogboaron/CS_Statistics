{
  "nbformat": 4,
  "nbformat_minor": 0,
  "metadata": {
    "colab": {
      "name": "StatisticsHw4.ipynb",
      "provenance": [],
      "authorship_tag": "ABX9TyOfZWD53q4TKqJVFJSBTWan",
      "include_colab_link": true
    },
    "kernelspec": {
      "name": "python3",
      "display_name": "Python 3"
    },
    "language_info": {
      "name": "python"
    }
  },
  "cells": [
    {
      "cell_type": "markdown",
      "metadata": {
        "id": "view-in-github",
        "colab_type": "text"
      },
      "source": [
        "<a href=\"https://colab.research.google.com/github/almogboaron/CS_Statistics/blob/main/StatisticsHw4.ipynb\" target=\"_parent\"><img src=\"https://colab.research.google.com/assets/colab-badge.svg\" alt=\"Open In Colab\"/></a>"
      ]
    },
    {
      "cell_type": "code",
      "metadata": {
        "id": "0wZPQ4dkU9pk"
      },
      "source": [
        "import numpy as np\n",
        "import pandas as pd\n",
        "import matplotlib.pyplot as plt\n",
        "from scipy.stats import expon as ex\n",
        "from scipy.stats import norm"
      ],
      "execution_count": null,
      "outputs": []
    },
    {
      "cell_type": "markdown",
      "metadata": {
        "id": "-8itN_M4FjTE"
      },
      "source": [
        "# Question 1"
      ]
    },
    {
      "cell_type": "code",
      "metadata": {
        "colab": {
          "base_uri": "https://localhost:8080/"
        },
        "id": "lJZgFLgk0qnK",
        "outputId": "a050d535-f250-4c27-a308-83b3a52e80e4"
      },
      "source": [
        "fig, ax = plt.subplots(1, 1)\n",
        "x = np.linspace(ex.ppf(0.01 , scale =20),ex.ppf(0.99,scale = 20), 100)\n",
        "ax.plot(x, ex.pdf(x , scale = 20),'r-', lw=5, alpha=0.6, label='exon')"
      ],
      "execution_count": null,
      "outputs": [
        {
          "output_type": "execute_result",
          "data": {
            "text/plain": [
              "[<matplotlib.lines.Line2D at 0x7fbb62947fd0>]"
            ]
          },
          "metadata": {},
          "execution_count": 99
        },
        {
          "output_type": "display_data",
          "data": {
            "image/png": "[encoded data removed]",
            "text/plain": [
              "<Figure size 432x288 with 1 Axes>"
            ]
          },
          "metadata": {
            "needs_background": "light"
          }
        }
      ]
    },
    {
      "cell_type": "markdown",
      "metadata": {
        "id": "2dH-kphzDtog"
      },
      "source": [
        "**Question Number 1.A**\n",
        "מכיוון שתוחלת הזמן היינו 20 דק קצב ההתפלגות ההינו λ=0.05"
      ]
    },
    {
      "cell_type": "markdown",
      "metadata": {
        "id": "st-g8XFXwrI9"
      },
      "source": [
        "**Question Number 1.B**"
      ]
    },
    {
      "cell_type": "code",
      "metadata": {
        "id": "DHZdypnwCQKo"
      },
      "source": [
        "E,Var=ex.stats(scale = 20,moments = \"mv\")"
      ],
      "execution_count": null,
      "outputs": []
    },
    {
      "cell_type": "code",
      "metadata": {
        "colab": {
          "base_uri": "https://localhost:8080/"
        },
        "id": "91Wu3cDxCWmm",
        "outputId": "2cd732b5-c8de-44d3-88b6-f5da9a488c76"
      },
      "source": [
        "Var = Var.sum()\n",
        "median = ex.ppf(0.5,scale = 20)\n",
        "print(\"The Varience is: \",Var)\n",
        "print(\"The Median is: \", median)"
      ],
      "execution_count": null,
      "outputs": [
        {
          "output_type": "stream",
          "name": "stdout",
          "text": [
            "The Varience is:  400.0\n",
            "The Median is:  13.862943611198906\n"
          ]
        }
      ]
    },
    {
      "cell_type": "markdown",
      "metadata": {
        "id": "wgLQAs9Jx55i"
      },
      "source": [
        "**Question Number 1.C**"
      ]
    },
    {
      "cell_type": "code",
      "metadata": {
        "colab": {
          "base_uri": "https://localhost:8080/"
        },
        "id": "Z6rCk9eACl0V",
        "outputId": "75d01d72-80cd-4600-c3d8-261476a14e2f"
      },
      "source": [
        "print(\"In order to get in time at 80% of the time we need to get out at: \" , ex.ppf(0.8,scale = 20))"
      ],
      "execution_count": null,
      "outputs": [
        {
          "output_type": "stream",
          "name": "stdout",
          "text": [
            "In order to get in time at 80% of the time we need to get out at:  32.18875824868201\n"
          ]
        }
      ]
    },
    {
      "cell_type": "markdown",
      "metadata": {
        "id": "X1-z2RHhz5F5"
      },
      "source": [
        " **Question Number 1.D**"
      ]
    },
    {
      "cell_type": "code",
      "metadata": {
        "colab": {
          "base_uri": "https://localhost:8080/"
        },
        "id": "V3IpdynHzwoD",
        "outputId": "9c1b2b5e-e6c6-4b72-e407-3db9c2f8cfad"
      },
      "source": [
        "print(\"The percent that we will make it in time is: \", ex.cdf(15,scale = 20))"
      ],
      "execution_count": null,
      "outputs": [
        {
          "output_type": "stream",
          "name": "stdout",
          "text": [
            "The percent that we will make it in time is:  0.5276334472589853\n"
          ]
        }
      ]
    },
    {
      "cell_type": "markdown",
      "metadata": {
        "id": "R4vszP5W2pvy"
      },
      "source": [
        "**Question Number 1.E**"
      ]
    },
    {
      "cell_type": "code",
      "metadata": {
        "colab": {
          "base_uri": "https://localhost:8080/"
        },
        "id": "_z9ZocFT0XOj",
        "outputId": "a5857a1b-aab6-4de4-8f99-b31e7a165713"
      },
      "source": [
        "print(\"The percent that we will get there in 10 minutes or more P(x>10) is equal to 1-p(x<10) and there for is :\" , 1-ex.cdf(10,scale = 20))"
      ],
      "execution_count": null,
      "outputs": [
        {
          "output_type": "stream",
          "name": "stdout",
          "text": [
            "The percent that we will get there in 10 minutes or more P(x>10) is equal to 1-p(x<10) and there for is : 0.6065306597126334\n"
          ]
        }
      ]
    },
    {
      "cell_type": "markdown",
      "metadata": {
        "id": "PU1Lv_4T4GKx"
      },
      "source": [
        "**Questino Number 1.F**"
      ]
    },
    {
      "cell_type": "code",
      "metadata": {
        "id": "OmDvTVw4360D"
      },
      "source": [
        "print(\"We'll give an example for a student who went out to the Uni 5 minutes ago and we'll check what is the percent for the student to get in 15 minutes\")"
      ],
      "execution_count": null,
      "outputs": []
    },
    {
      "cell_type": "markdown",
      "metadata": {
        "id": "8hw66qT571Kv"
      },
      "source": [
        "We'll give an example for a student who went out to the Uni 5 minutes ago and we'll check what is the percent for the student to get in 15 minutes or more. we'll show the perecent is equal as for the kid to arrive in 10 minutes as if he went out from home now.\n",
        "\n"
      ]
    },
    {
      "cell_type": "code",
      "metadata": {
        "id": "fYWhQoXU87_S"
      },
      "source": [
        "pFor15Minutes= 1-ex.cdf(10+5,scale=20)\n",
        "pFor5Minutes = 1-ex.cdf(5,scale = 20 )\n",
        "pFor10Minutes= 1-ex.cdf(10, scale = 20)"
      ],
      "execution_count": null,
      "outputs": []
    },
    {
      "cell_type": "code",
      "metadata": {
        "colab": {
          "base_uri": "https://localhost:8080/"
        },
        "id": "5Be4mIYF9Ra3",
        "outputId": "5a513461-303f-43d2-8c5a-e1da75bf567b"
      },
      "source": [
        "pFor10Minutes"
      ],
      "execution_count": null,
      "outputs": [
        {
          "output_type": "execute_result",
          "data": {
            "text/plain": [
              "0.6065306597126334"
            ]
          },
          "metadata": {},
          "execution_count": 79
        }
      ]
    },
    {
      "cell_type": "code",
      "metadata": {
        "colab": {
          "base_uri": "https://localhost:8080/"
        },
        "id": "XPfxZ7BJ9kRw",
        "outputId": "cef54d4a-d978-4352-a524-44efedaa460f"
      },
      "source": [
        "pFor5Minutes"
      ],
      "execution_count": null,
      "outputs": [
        {
          "output_type": "execute_result",
          "data": {
            "text/plain": [
              "0.7788007830714049"
            ]
          },
          "metadata": {},
          "execution_count": 80
        }
      ]
    },
    {
      "cell_type": "code",
      "metadata": {
        "colab": {
          "base_uri": "https://localhost:8080/"
        },
        "id": "L_jKM8PB9l7F",
        "outputId": "ed9f499b-0c66-45fd-ce06-f330d549279b"
      },
      "source": [
        "pFor15Minutes"
      ],
      "execution_count": null,
      "outputs": [
        {
          "output_type": "execute_result",
          "data": {
            "text/plain": [
              "0.4723665527410147"
            ]
          },
          "metadata": {},
          "execution_count": 81
        }
      ]
    },
    {
      "cell_type": "code",
      "metadata": {
        "id": "FNEuS5H39oHm"
      },
      "source": [
        "Exem = pFor15Minutes/pFor5Minutes"
      ],
      "execution_count": null,
      "outputs": []
    },
    {
      "cell_type": "code",
      "metadata": {
        "colab": {
          "base_uri": "https://localhost:8080/"
        },
        "id": "4CEqeL8R9u1c",
        "outputId": "a706826c-3689-40b3-9ae3-43ae0a25114b"
      },
      "source": [
        "print(\"As we can see, The student will arrive to The university if he went out from home in 10  minutes or more \\nin the same percent as if he went out from home 5 minutes ago and will get to the University in 15 minutes or more \")\n",
        "print(Exem ,\"Percent\")"
      ],
      "execution_count": null,
      "outputs": [
        {
          "output_type": "stream",
          "name": "stdout",
          "text": [
            "As we can see, The student will arrive to The university if he went out from home in 10  minutes or more \n",
            "in the same percent as if he went out from home 5 minutes ago and will get to the University in 15 minutes or more \n",
            "0.6065306597126334 Percent\n"
          ]
        }
      ]
    },
    {
      "cell_type": "markdown",
      "metadata": {
        "id": "gHgeNmCMDk1g"
      },
      "source": [
        "It is logical for the distrubution to be Exponential for as the Values are Only Positive  and Exponential distrubution is used to measure the probability of time between events there for is applicable here"
      ]
    },
    {
      "cell_type": "markdown",
      "metadata": {
        "id": "EvLmxzC2FCiW"
      },
      "source": [
        "# Question 3"
      ]
    },
    {
      "cell_type": "markdown",
      "metadata": {
        "id": "yYXO4EbZHgjy"
      },
      "source": [
        "3.A"
      ]
    },
    {
      "cell_type": "code",
      "metadata": {
        "colab": {
          "base_uri": "https://localhost:8080/"
        },
        "id": "zPlU-2SuFJ7L",
        "outputId": "a1ac019c-0306-4863-ca37-4f273a34afc7"
      },
      "source": [
        "print(\"The Probability for a plant to wait 82 kg or Above is \",1-norm.cdf(82 , loc = 81.5 ,scale = 13))"
      ],
      "execution_count": null,
      "outputs": [
        {
          "output_type": "stream",
          "name": "stdout",
          "text": [
            "The Probability for a plant to wait 82 kg or Above is  0.4846598483202955\n"
          ]
        }
      ]
    },
    {
      "cell_type": "markdown",
      "metadata": {
        "id": "tEbvBilbHj7R"
      },
      "source": [
        "3.B "
      ]
    },
    {
      "cell_type": "code",
      "metadata": {
        "colab": {
          "base_uri": "https://localhost:8080/"
        },
        "id": "pnRVPSDiGy_8",
        "outputId": "b3a4538f-e5dc-468c-8c98-3012dd30d941"
      },
      "source": [
        "print(\"The Events are independent between themselfs and there for the perecentage is :\",(1-norm.cdf(82 , loc = 81.5 ,scale = 13))**50)"
      ],
      "execution_count": null,
      "outputs": [
        {
          "output_type": "stream",
          "name": "stdout",
          "text": [
            "The Events are independent between themselfs and there for the perecentage is : 1.8700451956497734e-16\n"
          ]
        }
      ]
    },
    {
      "cell_type": "markdown",
      "metadata": {
        "id": "ovlh3uloIjmR"
      },
      "source": [
        "3.C"
      ]
    },
    {
      "cell_type": "markdown",
      "metadata": {
        "id": "r17lhx6QJ2aS"
      },
      "source": [
        "From CLT (Central Limit Therom) We can conclude that  : xMed ~ Norm(81.5,13^2/50) "
      ]
    },
    {
      "cell_type": "code",
      "metadata": {
        "colab": {
          "base_uri": "https://localhost:8080/"
        },
        "id": "S2--XqtdIZ0Q",
        "outputId": "2e67e08a-aa18-49a9-bc35-e73748dac16e"
      },
      "source": [
        "print(\"And there for the Persent is : \" , 1-norm.cdf(82,loc = 81.5,scale = 13/(50**0.5)))"
      ],
      "execution_count": null,
      "outputs": [
        {
          "output_type": "stream",
          "name": "stdout",
          "text": [
            "And there for the Persent is :  0.3928247937270871\n"
          ]
        }
      ]
    },
    {
      "cell_type": "markdown",
      "metadata": {
        "id": "UyntEHoROH4y"
      },
      "source": [
        "3.D"
      ]
    },
    {
      "cell_type": "code",
      "metadata": {
        "colab": {
          "base_uri": "https://localhost:8080/"
        },
        "id": "1BRiV1zfMEyV",
        "outputId": "61832ab7-382f-4aff-d7f7-79e4f5a1cf1d"
      },
      "source": [
        "print(\"P(80<X<82): \" , norm.cdf(82,loc = 81.5,scale = 13/5) - norm.cdf(80,loc = 81.5,scale = 13/5) )\n"
      ],
      "execution_count": null,
      "outputs": [
        {
          "output_type": "stream",
          "name": "stdout",
          "text": [
            "P(80<X<82):  0.2942536930569678\n"
          ]
        }
      ]
    },
    {
      "cell_type": "code",
      "metadata": {
        "colab": {
          "base_uri": "https://localhost:8080/",
          "height": 282
        },
        "id": "3qqIdhD8zMM0",
        "outputId": "f44d282d-866e-49fd-98f6-b8cc5a32c06b"
      },
      "source": [
        "x = np.linspace(norm.ppf(0.01 ,loc=81.5 ,scale =13/5),norm.ppf(0.99,loc=81.5 ,scale =13/5), 100)\n",
        "plt.plot(x, norm.pdf(x ,loc=81.5 ,scale =13/5),'r-', lw=5, alpha=0.6, label='exon')\n",
        "plt.plot([81.5,81.5],[0,0.16])\n",
        "plt.plot([80,80],[0,0.16])\n",
        "plt.plot([82,82],[0,0.16])"
      ],
      "execution_count": null,
      "outputs": [
        {
          "output_type": "execute_result",
          "data": {
            "text/plain": [
              "[<matplotlib.lines.Line2D at 0x7fbb6208d590>]"
            ]
          },
          "metadata": {},
          "execution_count": 138
        },
        {
          "output_type": "display_data",
          "data": {
            "image/png": "[encoded data removed]",
            "text/plain": [
              "<Figure size 432x288 with 1 Axes>"
            ]
          },
          "metadata": {
            "needs_background": "light"
          }
        }
      ]
    },
    {
      "cell_type": "code",
      "metadata": {
        "colab": {
          "base_uri": "https://localhost:8080/"
        },
        "id": "h9mC4UJh0ahG",
        "outputId": "6bd40963-b11d-4982-8e60-fb74e062e3d9"
      },
      "source": [
        "print(\"10% of the plants are havier is : \" , 2*81.5 - norm.ppf(0.1,loc = 81.5 ,scale = 13))"
      ],
      "execution_count": null,
      "outputs": [
        {
          "output_type": "stream",
          "name": "stdout",
          "text": [
            "10% of the plants are havier is :  98.1601703520798\n"
          ]
        }
      ]
    },
    {
      "cell_type": "code",
      "metadata": {
        "colab": {
          "base_uri": "https://localhost:8080/"
        },
        "id": "0iSGcJNJU-yK",
        "outputId": "147479b4-1531-4ca9-efc5-560823f05def"
      },
      "source": [
        "a = np.array([[0.52, 1], [-0.84, 1]])\n",
        "b = np.array([90, 70])\n",
        "x = np.linalg.solve(a, b)\n",
        "x"
      ],
      "execution_count": null,
      "outputs": [
        {
          "output_type": "execute_result",
          "data": {
            "text/plain": [
              "array([14.70588235, 82.35294118])"
            ]
          },
          "metadata": {},
          "execution_count": 15
        }
      ]
    },
    {
      "cell_type": "markdown",
      "metadata": {
        "id": "Nh_RnBlcXdmD"
      },
      "source": [
        "By Solving 2 Equations we can get the Answer - Here i used a matrix and numpy functions (Algebra Math) \n",
        "\n",
        "the Result is σ = 14.70588235 μ = 82.35294118 "
      ]
    },
    {
      "cell_type": "code",
      "metadata": {
        "id": "8bjCuuccXrjR"
      },
      "source": [
        ""
      ],
      "execution_count": null,
      "outputs": []
    }
  ]
}
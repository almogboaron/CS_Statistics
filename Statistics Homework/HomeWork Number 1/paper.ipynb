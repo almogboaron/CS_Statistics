{
 "cells": [
  {
   "cell_type": "code",
   "execution_count": 251,
   "id": "61f2e96b",
   "metadata": {},
   "outputs": [],
   "source": [
    "import matplotlib.pyplot as plt\n",
    "import numpy as np\n",
    "import scipy as sci\n",
    "from scipy.stats import binom as bn\n",
    "import pandas as pd"
   ]
  },
  {
   "cell_type": "markdown",
   "id": "89b9b79e",
   "metadata": {},
   "source": [
    "# Second Question (א) "
   ]
  },
  {
   "cell_type": "code",
   "execution_count": 135,
   "id": "055dd3a3",
   "metadata": {},
   "outputs": [],
   "source": [
    "def Empirical_F(X):\n",
    "    #Defining Y = Empiric Ecumilation Function Values \n",
    "    #Defining Counter to 1\n",
    "    #Defining M loops for returning numbers\n",
    "    Y = np.zeros_like(X)\n",
    "    counter = 1\n",
    "    M = 0\n",
    "    \n",
    "    #Sorting X\n",
    "    X = X.astype('float64')\n",
    "    Y = Y.astype('float64')\n",
    "    X = np.sort(X)\n",
    "    \n",
    "    #Looping Over X\n",
    "    for i in range(X.size):\n",
    "    \n",
    "    #Overflow Bug Fix\n",
    "        if(i+1== X.size):\n",
    "            if M>0:  #There Was Repeats So We\n",
    "                for j in range(M+1):\n",
    "                    Y[i-j] =1\n",
    "                    continue\n",
    "            Y[X.size-1]=1\n",
    "            break\n",
    "        \n",
    "        #Same Varuble\n",
    "        if(X[i]==X[i+1]):\n",
    "            counter = counter + 1\n",
    "            M = M + 1\n",
    "            continue\n",
    "        \n",
    "        #!(Same Varuble)\n",
    "        else:\n",
    "                if M>0:  #There Was Repeats So We\n",
    "                    num = counter/(X.size)\n",
    "                    for j in range(M+1):\n",
    "                        Y[i-j] = num\n",
    "                        continue\n",
    "                    M=0\n",
    "                    counter = counter + 1\n",
    "                \n",
    "                else:     #No Repeats\n",
    "                    Y[i]= (counter/(X.size))\n",
    "                    counter = counter + 1\n",
    "            \n",
    "        \n",
    "    return np.matrix([X,Y]).transpose()"
   ]
  },
  {
   "cell_type": "markdown",
   "id": "e019742a",
   "metadata": {},
   "source": [
    "2.ב"
   ]
  },
  {
   "cell_type": "code",
   "execution_count": 218,
   "id": "ac3437ef",
   "metadata": {},
   "outputs": [
    {
     "data": {
      "text/plain": [
       "matrix([[0.  , 0.3 ],\n",
       "        [0.  , 0.3 ],\n",
       "        [0.  , 0.3 ],\n",
       "        [0.  , 0.3 ],\n",
       "        [0.  , 0.3 ],\n",
       "        [0.  , 0.3 ],\n",
       "        [1.  , 0.75],\n",
       "        [1.  , 0.75],\n",
       "        [1.  , 0.75],\n",
       "        [1.  , 0.75],\n",
       "        [1.  , 0.75],\n",
       "        [1.  , 0.75],\n",
       "        [1.  , 0.75],\n",
       "        [1.  , 0.75],\n",
       "        [1.  , 0.75],\n",
       "        [2.  , 0.9 ],\n",
       "        [2.  , 0.9 ],\n",
       "        [2.  , 0.9 ],\n",
       "        [3.  , 0.95],\n",
       "        [4.  , 1.  ]])"
      ]
     },
     "execution_count": 218,
     "metadata": {},
     "output_type": "execute_result"
    }
   ],
   "source": [
    "X=bn.rvs(n=5, p=0.2, size=20)"
   ]
  },
  {
   "cell_type": "markdown",
   "id": "cdc57805",
   "metadata": {},
   "source": [
    "2.ג"
   ]
  },
  {
   "cell_type": "code",
   "execution_count": 219,
   "id": "fce39ece",
   "metadata": {},
   "outputs": [
    {
     "data": {
      "text/plain": [
       "matrix([[0.  , 0.3 ],\n",
       "        [0.  , 0.3 ],\n",
       "        [0.  , 0.3 ],\n",
       "        [0.  , 0.3 ],\n",
       "        [0.  , 0.3 ],\n",
       "        [0.  , 0.3 ],\n",
       "        [1.  , 0.75],\n",
       "        [1.  , 0.75],\n",
       "        [1.  , 0.75],\n",
       "        [1.  , 0.75],\n",
       "        [1.  , 0.75],\n",
       "        [1.  , 0.75],\n",
       "        [1.  , 0.75],\n",
       "        [1.  , 0.75],\n",
       "        [1.  , 0.75],\n",
       "        [2.  , 0.9 ],\n",
       "        [2.  , 0.9 ],\n",
       "        [2.  , 0.9 ],\n",
       "        [3.  , 0.95],\n",
       "        [4.  , 1.  ]])"
      ]
     },
     "execution_count": 219,
     "metadata": {},
     "output_type": "execute_result"
    }
   ],
   "source": [
    "Y=Empirical_F(X)\n",
    "Y"
   ]
  },
  {
   "cell_type": "markdown",
   "id": "b10c517c",
   "metadata": {},
   "source": [
    "2.ד"
   ]
  },
  {
   "cell_type": "code",
   "execution_count": 229,
   "id": "cf063921",
   "metadata": {},
   "outputs": [
    {
     "data": {
      "text/plain": [
       "[<matplotlib.lines.Line2D at 0x2ba06c8d130>]"
      ]
     },
     "execution_count": 229,
     "metadata": {},
     "output_type": "execute_result"
    },
    {
     "data": {
      "image/png": "[encoded data removed]",
      "text/plain": [
       "<Figure size 432x288 with 1 Axes>"
      ]
     },
     "metadata": {
      "needs_background": "light"
     },
     "output_type": "display_data"
    }
   ],
   "source": [
    "plt.scatter(np.array(Y.transpose()[0,:]),np.array(Y.transpose()[1:]))\n",
    "plt.ylim(0,1)\n",
    "plt.step(0.1,0.1)"
   ]
  },
  {
   "cell_type": "markdown",
   "id": "3964876f",
   "metadata": {},
   "source": [
    "2.ה"
   ]
  },
  {
   "cell_type": "code",
   "execution_count": 226,
   "id": "ed8b8505",
   "metadata": {},
   "outputs": [
    {
     "data": {
      "text/plain": [
       "array([0.40187757, 0.80375514, 0.96450617, 0.99665638, 0.9998714 ,\n",
       "       1.        ])"
      ]
     },
     "execution_count": 226,
     "metadata": {},
     "output_type": "execute_result"
    }
   ],
   "source": [
    "Y_new = np.array([0.0,1.0,2.0,3.0,4.0,5.0])\n",
    "bn.cdf(Y_new,5,1/6)"
   ]
  },
  {
   "cell_type": "markdown",
   "id": "f0e6fbab",
   "metadata": {},
   "source": [
    "2.ו"
   ]
  },
  {
   "cell_type": "code",
   "execution_count": 231,
   "id": "081edff8",
   "metadata": {},
   "outputs": [
    {
     "data": {
      "image/png": "[encoded data removed]",
      "text/plain": [
       "<Figure size 432x288 with 1 Axes>"
      ]
     },
     "metadata": {
      "needs_background": "light"
     },
     "output_type": "display_data"
    }
   ],
   "source": [
    "plt.scatter(np.array(Y.transpose()[0,:]),np.array(Y.transpose()[1:]))\n",
    "plt.ylim(0,1)\n",
    "plt.step(0.1,0.1)\n",
    "plt.scatter(Y_new,bn.cdf(Y_new,5,1/6))\n",
    "plt.show()"
   ]
  },
  {
   "cell_type": "markdown",
   "id": "fc635cab",
   "metadata": {},
   "source": [
    "2.ז"
   ]
  },
  {
   "cell_type": "code",
   "execution_count": 244,
   "id": "f4956b0e",
   "metadata": {},
   "outputs": [
    {
     "data": {
      "image/png": "[encoded data removed]",
      "text/plain": [
       "<Figure size 432x288 with 1 Axes>"
      ]
     },
     "metadata": {
      "needs_background": "light"
     },
     "output_type": "display_data"
    }
   ],
   "source": [
    "X_20 = bn.rvs(n=5, p=0.2, size=20)\n",
    "X_100 = bn.rvs(n=5, p=0.2, size=20)\n",
    "X_200 = bn.rvs(n=5, p=0.2, size=200)\n",
    "X_1000 = bn.rvs(n=5, p=0.2, size=20)\n",
    "Y_20=Empirical_F(X_20)\n",
    "Y_100=Empirical_F(X_100)\n",
    "Y_200=Empirical_F(X_200)\n",
    "Y_1000=Empirical_F(X_1000)\n",
    "plt.scatter(np.array(Y_20.transpose()[0,:]),np.array(Y_20.transpose()[1:]),label = '20 Samples')\n",
    "plt.scatter(np.array(Y_100.transpose()[0,:]),np.array(Y_100.transpose()[1:]),label = '100 Samples')\n",
    "plt.scatter(np.array(Y_200.transpose()[0,:]),np.array(Y_200.transpose()[1:]),label = '200 Samples')\n",
    "plt.scatter(np.array(Y_1000.transpose()[0,:]),np.array(Y_1000.transpose()[1:]),label = '1000 Samples')\n",
    "plt.scatter(Y_new,bn.cdf(Y_new,5,1/6),label = 'Binom Formula')\n",
    "plt.legend()\n",
    "plt.show()"
   ]
  },
  {
   "cell_type": "markdown",
   "id": "262291e0",
   "metadata": {},
   "source": [
    "ניתן להסיק כי ככל שהמדגם גדול בהתפלגות האמפירית כך התוצאה קרובה יותר להתפלגות התאורתית (חוק המספרים הגדולים בהנחה כי המדגם הוא אכן אמפירי ורנדומלי )"
   ]
  },
  {
   "cell_type": "markdown",
   "id": "13503d62",
   "metadata": {},
   "source": [
    "# Question 3"
   ]
  },
  {
   "cell_type": "markdown",
   "id": "2009376a",
   "metadata": {},
   "source": [
    "### 3א."
   ]
  },
  {
   "cell_type": "code",
   "execution_count": 249,
   "id": "5f72bd41",
   "metadata": {},
   "outputs": [],
   "source": [
    "path =\"C:\\\\Users\\\\almog\\\\Desktop\\\\Almog's_WorkFile\\\\PandasAndJupyter\\\\Statistics Homework\\\\HomeWork Number 1\\\\appendicitis.csv\""
   ]
  },
  {
   "cell_type": "code",
   "execution_count": 252,
   "id": "2e7f9e45",
   "metadata": {},
   "outputs": [],
   "source": [
    "df = pd.read_csv(path)"
   ]
  },
  {
   "cell_type": "code",
   "execution_count": 255,
   "id": "537df396",
   "metadata": {},
   "outputs": [
    {
     "data": {
      "text/html": [
       "<div>\n",
       "<style scoped>\n",
       "    .dataframe tbody tr th:only-of-type {\n",
       "        vertical-align: middle;\n",
       "    }\n",
       "\n",
       "    .dataframe tbody tr th {\n",
       "        vertical-align: top;\n",
       "    }\n",
       "\n",
       "    .dataframe thead th {\n",
       "        text-align: right;\n",
       "    }\n",
       "</style>\n",
       "<table border=\"1\" class=\"dataframe\">\n",
       "  <thead>\n",
       "    <tr style=\"text-align: right;\">\n",
       "      <th></th>\n",
       "      <th>Sex</th>\n",
       "      <th>Age</th>\n",
       "      <th>Pathology</th>\n",
       "    </tr>\n",
       "  </thead>\n",
       "  <tbody>\n",
       "    <tr>\n",
       "      <th>0</th>\n",
       "      <td>Male</td>\n",
       "      <td>72</td>\n",
       "      <td>1</td>\n",
       "    </tr>\n",
       "    <tr>\n",
       "      <th>1</th>\n",
       "      <td>Female</td>\n",
       "      <td>88</td>\n",
       "      <td>1</td>\n",
       "    </tr>\n",
       "    <tr>\n",
       "      <th>2</th>\n",
       "      <td>Male</td>\n",
       "      <td>74</td>\n",
       "      <td>1</td>\n",
       "    </tr>\n",
       "    <tr>\n",
       "      <th>3</th>\n",
       "      <td>Female</td>\n",
       "      <td>69</td>\n",
       "      <td>1</td>\n",
       "    </tr>\n",
       "    <tr>\n",
       "      <th>4</th>\n",
       "      <td>Female</td>\n",
       "      <td>69</td>\n",
       "      <td>2</td>\n",
       "    </tr>\n",
       "    <tr>\n",
       "      <th>...</th>\n",
       "      <td>...</td>\n",
       "      <td>...</td>\n",
       "      <td>...</td>\n",
       "    </tr>\n",
       "    <tr>\n",
       "      <th>262</th>\n",
       "      <td>Male</td>\n",
       "      <td>35</td>\n",
       "      <td>1</td>\n",
       "    </tr>\n",
       "    <tr>\n",
       "      <th>263</th>\n",
       "      <td>Female</td>\n",
       "      <td>40</td>\n",
       "      <td>1</td>\n",
       "    </tr>\n",
       "    <tr>\n",
       "      <th>264</th>\n",
       "      <td>Female</td>\n",
       "      <td>20</td>\n",
       "      <td>2</td>\n",
       "    </tr>\n",
       "    <tr>\n",
       "      <th>265</th>\n",
       "      <td>Female</td>\n",
       "      <td>85</td>\n",
       "      <td>1</td>\n",
       "    </tr>\n",
       "    <tr>\n",
       "      <th>266</th>\n",
       "      <td>Male</td>\n",
       "      <td>48</td>\n",
       "      <td>1</td>\n",
       "    </tr>\n",
       "  </tbody>\n",
       "</table>\n",
       "<p>267 rows × 3 columns</p>\n",
       "</div>"
      ],
      "text/plain": [
       "        Sex  Age  Pathology\n",
       "0      Male   72          1\n",
       "1    Female   88          1\n",
       "2      Male   74          1\n",
       "3    Female   69          1\n",
       "4    Female   69          2\n",
       "..      ...  ...        ...\n",
       "262    Male   35          1\n",
       "263  Female   40          1\n",
       "264  Female   20          2\n",
       "265  Female   85          1\n",
       "266    Male   48          1\n",
       "\n",
       "[267 rows x 3 columns]"
      ]
     },
     "execution_count": 255,
     "metadata": {},
     "output_type": "execute_result"
    }
   ],
   "source": [
    "df"
   ]
  },
  {
   "cell_type": "code",
   "execution_count": 261,
   "id": "6a1d0257",
   "metadata": {},
   "outputs": [
    {
     "name": "stdout",
     "output_type": "stream",
     "text": [
      "0.24344569288389514 ההסתברות האמפירית של מנותח להתגלות כמנותח שווא\n"
     ]
    }
   ],
   "source": [
    "patho=df['Pathology']\n",
    "print((patho[patho==2].size)/patho.size,\"ההסתברות האמפירית של מנותח להתגלות כמנותח שווא\")"
   ]
  },
  {
   "cell_type": "markdown",
   "id": "9061a610",
   "metadata": {},
   "source": [
    "### 3ב."
   ]
  },
  {
   "cell_type": "code",
   "execution_count": 300,
   "id": "1af66980",
   "metadata": {},
   "outputs": [
    {
     "data": {
      "text/html": [
       "<div>\n",
       "<style scoped>\n",
       "    .dataframe tbody tr th:only-of-type {\n",
       "        vertical-align: middle;\n",
       "    }\n",
       "\n",
       "    .dataframe tbody tr th {\n",
       "        vertical-align: top;\n",
       "    }\n",
       "\n",
       "    .dataframe thead th {\n",
       "        text-align: right;\n",
       "    }\n",
       "</style>\n",
       "<table border=\"1\" class=\"dataframe\">\n",
       "  <thead>\n",
       "    <tr style=\"text-align: right;\">\n",
       "      <th></th>\n",
       "      <th></th>\n",
       "      <th>Age</th>\n",
       "    </tr>\n",
       "    <tr>\n",
       "      <th>Sex</th>\n",
       "      <th>Pathology</th>\n",
       "      <th></th>\n",
       "    </tr>\n",
       "  </thead>\n",
       "  <tbody>\n",
       "    <tr>\n",
       "      <th rowspan=\"2\" valign=\"top\">Female</th>\n",
       "      <th>1</th>\n",
       "      <td>101</td>\n",
       "    </tr>\n",
       "    <tr>\n",
       "      <th>2</th>\n",
       "      <td>47</td>\n",
       "    </tr>\n",
       "    <tr>\n",
       "      <th rowspan=\"2\" valign=\"top\">Male</th>\n",
       "      <th>1</th>\n",
       "      <td>101</td>\n",
       "    </tr>\n",
       "    <tr>\n",
       "      <th>2</th>\n",
       "      <td>18</td>\n",
       "    </tr>\n",
       "  </tbody>\n",
       "</table>\n",
       "</div>"
      ],
      "text/plain": [
       "                  Age\n",
       "Sex    Pathology     \n",
       "Female 1          101\n",
       "       2           47\n",
       "Male   1          101\n",
       "       2           18"
      ]
     },
     "execution_count": 300,
     "metadata": {},
     "output_type": "execute_result"
    }
   ],
   "source": [
    "df.groupby(['Sex','Pathology']).count()"
   ]
  },
  {
   "cell_type": "markdown",
   "id": "dac76466",
   "metadata": {},
   "source": [
    "### 3ג."
   ]
  },
  {
   "cell_type": "code",
   "execution_count": 336,
   "id": "7eefb21b",
   "metadata": {},
   "outputs": [
    {
     "name": "stdout",
     "output_type": "stream",
     "text": [
      "0.15126050420168066 ההסתברות האמפירית להישלח לניתוח שווא עבור גבר\n",
      "0.31756756756756754 ההסתברות האימפירית להישלח לניתוח שווא עבור אישה\n"
     ]
    }
   ],
   "source": [
    "print(18/119,\"ההסתברות האמפירית להישלח לניתוח שווא עבור גבר\")\n",
    "print(47/148,\"ההסתברות האימפירית להישלח לניתוח שווא עבור אישה\")"
   ]
  },
  {
   "cell_type": "markdown",
   "id": "d107d214",
   "metadata": {},
   "source": [
    "על פי הנתונים האימפיריים הסיכוי עבור אישה להישלח לניתוח שווה גבוהה פי 2 אח ניתן לשים לב כי ישנו הבדל בין הנתונים מבחינת מספר הנבדקים וכי המדגם היינו קטן בשביל לקבוע שאכן הנתונים מסוגלים לקבוע מגדר מסוים שיותר סביר שישלח ."
   ]
  },
  {
   "cell_type": "markdown",
   "id": "6fa8efe8",
   "metadata": {},
   "source": [
    "לתמיכה נשים לב כי מספר הנבדקים של הנשים היינו גדול ב-29 נבדקות והיינו מהבא כמעט רבע ממספר הנבדקים הגבריים שכן מספר גבוהה הנ\"ל יכול לשנות דרסטית את תוצאות הניתוח"
   ]
  },
  {
   "cell_type": "markdown",
   "id": "1a83168a",
   "metadata": {},
   "source": [
    "# Question 4"
   ]
  },
  {
   "cell_type": "code",
   "execution_count": 10,
   "id": "49f9568d",
   "metadata": {},
   "outputs": [],
   "source": [
    "Over_All = 2201\n",
    "Y = 13+240+875+670\n",
    "O = Over_All-Y\n",
    "Dead = 1491\n",
    "Alive= Over_All - Dead\n",
    "Y_D = 3 + 140 + 500 + 665\n",
    "O_D = Dead - Y_D\n",
    "f_Class = 325\n",
    "y_f =13\n",
    "O_f = 312\n",
    "y_D_F = 3\n",
    "o_D_F = 120\n"
   ]
  },
  {
   "cell_type": "code",
   "execution_count": 3,
   "id": "3a1268f5",
   "metadata": {},
   "outputs": [
    {
     "data": {
      "text/plain": [
       "(0.8772635814889336, 0.1227364185110664)"
      ]
     },
     "execution_count": 3,
     "metadata": {},
     "output_type": "execute_result"
    }
   ],
   "source": [
    "Y_D/Dead , O_D/Dead"
   ]
  },
  {
   "cell_type": "code",
   "execution_count": 12,
   "id": "079c6a2c",
   "metadata": {},
   "outputs": [
    {
     "data": {
      "text/plain": [
       "(0.37846153846153846, 0.7292110874200426)"
      ]
     },
     "execution_count": 12,
     "metadata": {},
     "output_type": "execute_result"
    }
   ],
   "source": [
    "(y_D_F+o_D_F)/f_Class , (1491-(y_D_F+o_D_F))/(Over_All-f_Class)"
   ]
  },
  {
   "cell_type": "code",
   "execution_count": 14,
   "id": "96666a2c",
   "metadata": {},
   "outputs": [
    {
     "data": {
      "text/plain": [
       "(0.23076923076923078, 0.38461538461538464)"
      ]
     },
     "execution_count": 14,
     "metadata": {},
     "output_type": "execute_result"
    }
   ],
   "source": [
    "(y_D_F/y_f) , (o_D_F)/O_f"
   ]
  },
  {
   "cell_type": "markdown",
   "id": "ae613acc",
   "metadata": {},
   "source": [
    "ניתן לראות מן הנתונים כי אחוז המתים של הצעירים (89%) גבוהה בהרבה מאחוז המתים הזקנים(12%) על הטיטאניק! "
   ]
  },
  {
   "cell_type": "markdown",
   "id": "b24a9c6a",
   "metadata": {},
   "source": [
    "וניתן לראות כי אם היינך מהמחלקה הראשונה אחוזיי התמותה נמוכים יותר(37.8%) משאר הספינה יחדיו)72.9% "
   ]
  },
  {
   "cell_type": "markdown",
   "id": "e8ae03b2",
   "metadata": {},
   "source": [
    "זהו פארדוקס סימפסון הנובע מקריאת נתונים לא נכונה"
   ]
  },
  {
   "cell_type": "markdown",
   "id": "1f893eb9",
   "metadata": {},
   "source": [
    "נשים לב כי אם היינך זקן מהמחלקה הראשונה אזיי אחוזיי התמותה היינם אלא גבוהים יותר מאשר הצעירים!\n",
    "כך שאחוז הזקנים הוא 38%\n",
    "והצעירים היינו 23%\n"
   ]
  },
  {
   "cell_type": "code",
   "execution_count": null,
   "id": "f2f58b00",
   "metadata": {},
   "outputs": [],
   "source": []
  }
 ],
 "metadata": {
  "kernelspec": {
   "display_name": "Python 3 (ipykernel)",
   "language": "python",
   "name": "python3"
  },
  "language_info": {
   "codemirror_mode": {
    "name": "ipython",
    "version": 3
   },
   "file_extension": ".py",
   "mimetype": "text/x-python",
   "name": "python",
   "nbconvert_exporter": "python",
   "pygments_lexer": "ipython3",
   "version": "3.9.0"
  }
 },
 "nbformat": 4,
 "nbformat_minor": 5
}
